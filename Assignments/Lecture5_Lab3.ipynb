{
 "cells": [
  {
   "cell_type": "markdown",
   "id": "b557d379",
   "metadata": {},
   "source": [
    "# Lab Assignment 3 -- Control Flow & Functions\n",
    "In this lab, you will complete a series of exercises related to the lecture material on control flow and functions. "
   ]
  },
  {
   "cell_type": "markdown",
   "id": "f2d3f549",
   "metadata": {},
   "source": [
    "## Exercise 1a -- Divisible by n\n",
    "Define a function called `divisible_by_n()` that takes two inputs:\n",
    "- a range\n",
    "- a single integer (the n)\n",
    "\n",
    "By default, the single integer argument should be equal to 2 if only one argument is provided.\n",
    "\n",
    "You function should return a list of all numbers in the input range that are divisible by `n`. \n",
    "\n",
    "Include a function description for your function using docstrings. \n",
    "\n",
    "**Hints**\n",
    "- You can use `%` (for modular arithmetic) or you can use `math.round()` to check if a number is divisible by 3.\n",
    "- Think about whether you should to use a `for` loop or a `while` loop."
   ]
  },
  {
   "cell_type": "code",
   "execution_count": 1,
   "id": "a6113693",
   "metadata": {},
   "outputs": [],
   "source": [
    "# Exercise 1a\n",
    "def divisible_by_n(num_range, n=2):\n",
    "    \"\"\"\n",
    "    Return a list of all numbers in the input range that are divisible by n.\n",
    "\n",
    "    Parameters:\n",
    "    num_range (range): The range of numbers to check.\n",
    "    n (int): The divisor. Default value of n is 2.\n",
    "\n",
    "    Returns:\n",
    "    list: A list of numbers from num_range that are divisible by n.\n",
    "    \"\"\"\n",
    "    divis_list = []\n",
    "    for num in num_range:\n",
    "        if num % n == 0:\n",
    "            divis_list.append(num)\n",
    "    return divis_list"
   ]
  },
  {
   "cell_type": "code",
   "execution_count": 2,
   "id": "c8c3a0a6",
   "metadata": {},
   "outputs": [
    {
     "name": "stdout",
     "output_type": "stream",
     "text": [
      "[0, 3, 6, 9]\n"
     ]
    }
   ],
   "source": [
    "print(divisible_by_n(range(10), 3))"
   ]
  },
  {
   "cell_type": "markdown",
   "id": "d8d77670",
   "metadata": {},
   "source": [
    "## Exercise 1b -- Big Lists\n",
    "`%timeit` in the code below is what is known as an IPython magic function. IPython stands for Interactive Python and simply refers to a version of the Python (and other coding languages) environment that has more functionality than the standard one. In particular, this functionality makes Python easier to interact with if we want to explore data, test functions, etc. Jupyter is built on IPython. \n",
    "\n",
    "`%timeit` runs the code that follows it many times to get a sense of how long the code takes to run. Below, we use it to time how long `divide_by_n` takes on two ranges of different lengths.\n",
    "\n",
    "Run the cell and answer the following questions in a Markdown cell:\n",
    "1. Which range takes longer to get through? By how many times longer does it take? Does this make sense to you? What does it say about how the time of computation is affected by the length of the range? \n",
    "2. Would your function work with a list instead of a range? Why or why not? \n",
    "\n",
    "**Hint:** $\\mu s$ means microseconds"
   ]
  },
  {
   "cell_type": "code",
   "execution_count": 3,
   "id": "3de20bc7",
   "metadata": {},
   "outputs": [
    {
     "name": "stdout",
     "output_type": "stream",
     "text": [
      "53.5 µs ± 253 ns per loop (mean ± std. dev. of 7 runs, 10,000 loops each)\n",
      "1.13 ms ± 316 µs per loop (mean ± std. dev. of 7 runs, 1,000 loops each)\n"
     ]
    }
   ],
   "source": [
    "# Exercise 1b -- don't edit this cell\n",
    "%timeit divisible_by_n(range(1_001), 3)\n",
    "%timeit divisible_by_n(range(10_001), 3)"
   ]
  },
  {
   "cell_type": "markdown",
   "id": "d6fd32c2",
   "metadata": {},
   "source": [
    "### Response to 1b\n",
    "\n",
    "The range of 10,001 takes longer to get through as compared to range of 1,001 by roughly 10 times longer (1.33/0.135). This makes sense because the input range is also about 10 times larger. Hence, this suggests that the relationship between the time of computaiton and the length of the range is linear.\n",
    "\n",
    "The function will work with a list instead of a range because the 'for' loop will also iterate over each element in the list. "
   ]
  },
  {
   "cell_type": "markdown",
   "id": "34af43ec",
   "metadata": {},
   "source": [
    "## Exercise 2 -- Function Objects vs. Function Calls\n",
    "`sum()` is a function that can take some iterables and return the sum of elements in that iterable. In the Markdown cell below, answer the following questions.\n",
    "1. What types is `sum`? \n",
    "2. What type is `sum([1,2,3])`? How about `sum([1,2.0,3])`? \n",
    "3. Are the types of these three objects the same or different? Why?\n",
    "4. What is the type of `print(\"hello\")`? Why?\n"
   ]
  },
  {
   "cell_type": "code",
   "execution_count": 4,
   "id": "ce7e11cd",
   "metadata": {},
   "outputs": [
    {
     "name": "stdout",
     "output_type": "stream",
     "text": [
      "<class 'builtin_function_or_method'>\n",
      "<class 'int'>\n",
      "<class 'float'>\n",
      "hello\n",
      "<class 'NoneType'>\n"
     ]
    }
   ],
   "source": [
    "# If needed, you can call the type function on these objects to help answer the question\n",
    "\n",
    "print(type(sum))\n",
    "print(type(sum([1,2,3])))\n",
    "print(type(sum([1,2.0,3])))\n",
    "print(type(print(\"hello\"))) \n"
   ]
  },
  {
   "cell_type": "markdown",
   "id": "708ca789",
   "metadata": {},
   "source": [
    "### Reponse to Exercise 2\n",
    "\n",
    "1. sum is of type <class 'builtin_function_or_method'>\n",
    "2. sum([1, 2, 3]) returns the sum of the elements in the list [1, 2, 3], which is 6. Hence, the type of 6 is <class 'int'>. sum([1, 2.0, 3]) returns the sum of the elements in the list [1, 2.0, 3], which is 6.0. Hence, the type of 6.0 is <class 'float'>\n",
    "3. They are different. As 'sum' itself is a function in Python, sum([1,2,3]) and sum([1,2.0,3]) will output numerical results, hence, their output types will be different.\n",
    "4. The print function in Python returns None. The primary purpose of print is to output text to the console, and it does not return any value.\n"
   ]
  },
  {
   "cell_type": "markdown",
   "id": "18d0aa8e",
   "metadata": {},
   "source": [
    "# Exercise 3 \n",
    "Exercise 3 is a series of six questions\n",
    "## Exercise 3a -- Factorial Function\n",
    "The factorial of an integer n (denoted n! in mathematics) is equal to itself multipled by all of the integers smaller than n. That is\n",
    "$$\n",
    "n! = n * (n-1) * (n-2) *...* 2 * 1\n",
    "$$\n",
    "where $0!$ is defined to be 1.\n",
    "\n",
    "The module `math` already has a factorial function, but you are going to build your own. In the cell below, define a function called `custom_factorial` that takes an integer as an input and returns the factorial of that integer. You must use a loop to calculate the factorial."
   ]
  },
  {
   "cell_type": "code",
   "execution_count": 5,
   "id": "a6ae690f",
   "metadata": {},
   "outputs": [],
   "source": [
    "# Exercise 3a Code\n",
    "def custom_factorial(n):\n",
    "    out = 1\n",
    "    for num in range(1,n+1):\n",
    "        out = out * num\n",
    "    return out "
   ]
  },
  {
   "cell_type": "code",
   "execution_count": 6,
   "id": "bf8b5f15",
   "metadata": {},
   "outputs": [
    {
     "data": {
      "text/plain": [
       "3628800"
      ]
     },
     "execution_count": 6,
     "metadata": {},
     "output_type": "execute_result"
    }
   ],
   "source": [
    "custom_factorial(10)"
   ]
  },
  {
   "cell_type": "markdown",
   "id": "6a76366f",
   "metadata": {},
   "source": [
    "## Exercise 3b -- Checking Your Work\n",
    "Using the `math` module's `factorial` function and a comparison operator, check that your function works for 10!. \n"
   ]
  },
  {
   "cell_type": "code",
   "execution_count": 7,
   "id": "f52c5077",
   "metadata": {},
   "outputs": [
    {
     "data": {
      "text/plain": [
       "True"
      ]
     },
     "execution_count": 7,
     "metadata": {},
     "output_type": "execute_result"
    }
   ],
   "source": [
    "# Exercise 3b Code\n",
    "import math\n",
    "math.factorial(10) == custom_factorial(10)"
   ]
  },
  {
   "cell_type": "markdown",
   "id": "d6933761",
   "metadata": {},
   "source": [
    "## Exercise 3c -- Nondecreasing Functions\n",
    "A function $f$ is nondecreasing when $f(x) \\geq f(y)$  if and only if $x \\geq y$. Using `matplotlib.pyplot`, and your function plot the factorial function for $n = 0, 1, 2, 3, ..., 20$. You can plot a scatter plot or a line plot. \n",
    "\n",
    "In the Markdown cell below, give another example of a nondecreasing function.\n",
    "\n",
    "**Hint:** Use a a list comprehension."
   ]
  },
  {
   "cell_type": "code",
   "execution_count": 8,
   "id": "297f61d9",
   "metadata": {},
   "outputs": [
    {
     "data": {
      "text/plain": [
       "[<matplotlib.lines.Line2D at 0x1e4a9d03400>]"
      ]
     },
     "execution_count": 8,
     "metadata": {},
     "output_type": "execute_result"
    },
    {
     "data": {
      "image/png": "[encoded data removed]",
      "text/plain": [
       "<Figure size 432x288 with 1 Axes>"
      ]
     },
     "metadata": {
      "needs_background": "light"
     },
     "output_type": "display_data"
    }
   ],
   "source": [
    "# Exercise 3c Code\n",
    "import matplotlib.pyplot as plt\n",
    "x_coordinates = range(0,21)\n",
    "fact_values = [custom_factorial(x) for x in x_coordinates]\n",
    "plt.plot(x_coordinates, fact_values)"
   ]
  },
  {
   "cell_type": "markdown",
   "id": "a97e10da",
   "metadata": {},
   "source": [
    "### Response to Exercise 3c\n",
    "\n",
    "Another example of a non-decreasing function is the natural logarithm function, log(x). For x more than or equal to 1, the natural log function is non-decreasing as log(x) increases as x increases. "
   ]
  },
  {
   "cell_type": "markdown",
   "id": "9f9b870c",
   "metadata": {},
   "source": [
    "## Exercise 3d -- Finding the Smallest Integer\n",
    "For a generic nondecreasing function $f$, we might be interested in finding the smallest integer $n$ such that $f(n)$ is greater than or equal to some constant $c$. In the lecture we did this with $f(n) = n^2$, which is nondecreasing for $n \\geq 0$, and $c = 12345$.\n",
    "\n",
    "Now, define a function calld `find_smallest_int` that takes a starting value `start`, a function `f`, and a constant `c` as inputs. Recognizing that these correspond to the values above, have your function return two values: the smallest integer $n$ such that $f(n) \\geq c$ and the value of $f(n)$ for that integer.\n",
    "\n",
    "**Hint:** If you're stuck, try looking at the lecture."
   ]
  },
  {
   "cell_type": "code",
   "execution_count": 9,
   "id": "025521ae",
   "metadata": {},
   "outputs": [],
   "source": [
    "# Exercise 3d Code\n",
    "def find_smallest_int(start, f, c):\n",
    "    while f(start) < c:\n",
    "        start += 1\n",
    "        \n",
    "    return start, f(start)"
   ]
  },
  {
   "cell_type": "code",
   "execution_count": 10,
   "id": "6622a652",
   "metadata": {},
   "outputs": [
    {
     "data": {
      "text/plain": [
       "(20, 400)"
      ]
     },
     "execution_count": 10,
     "metadata": {},
     "output_type": "execute_result"
    }
   ],
   "source": [
    "find_smallest_int(10, lambda x: x** 2, 400) "
   ]
  },
  {
   "cell_type": "markdown",
   "id": "c95a31db",
   "metadata": {},
   "source": [
    "## Exercise 3e -- Plugging in Your Function\n",
    "Now, use `find_smallest_int` and `custom_factorial` to find the smallest $n$ such that $n! \\geq 12,345$. Use a starting value of 0. Check your answer as we did in the lecture. \n"
   ]
  },
  {
   "cell_type": "code",
   "execution_count": 11,
   "id": "fbb8967e",
   "metadata": {},
   "outputs": [
    {
     "data": {
      "text/plain": [
       "(8, 40320)"
      ]
     },
     "execution_count": 11,
     "metadata": {},
     "output_type": "execute_result"
    }
   ],
   "source": [
    "# Exercise 3e Code\n",
    "find_smallest_int(0, custom_factorial, 12345)"
   ]
  },
  {
   "cell_type": "markdown",
   "id": "c91fbc7a",
   "metadata": {},
   "source": [
    "## Exercise 3f -- Increasing n\n",
    "Now we wil time the speed and output of `find_smallest_int` with smaller and larger values of $c$ and two different functions: `custom_factorial` and and a lambda function that sqaures a single input.\n",
    "\n",
    "Answer the folowing questions in the Markdown cell below:\n",
    "1. Which function takes longer to run for a fixed value of $c$. Why do you think this is? \n",
    "2. What is the ratio between runtimes when fixing the function and varying $c$ from 1,000 to 10,000. How about 10,000 to 100,000? Compare this ratio to the ratio of smallest integers for those runs. Are they similar? Why or why not?  You will want to write some code to compare these values.\n"
   ]
  },
  {
   "cell_type": "code",
   "execution_count": 12,
   "id": "a6081adb",
   "metadata": {},
   "outputs": [
    {
     "name": "stdout",
     "output_type": "stream",
     "text": [
      "8.15 µs ± 43.7 ns per loop (mean ± std. dev. of 7 runs, 100,000 loops each)\n",
      "9.45 µs ± 88.8 ns per loop (mean ± std. dev. of 7 runs, 100,000 loops each)\n",
      "10.9 µs ± 50.9 ns per loop (mean ± std. dev. of 7 runs, 100,000 loops each)\n",
      "25.5 µs ± 84.2 ns per loop (mean ± std. dev. of 7 runs, 10,000 loops each)\n",
      "76.4 µs ± 335 ns per loop (mean ± std. dev. of 7 runs, 10,000 loops each)\n",
      "239 µs ± 1.92 µs per loop (mean ± std. dev. of 7 runs, 1,000 loops each)\n"
     ]
    }
   ],
   "source": [
    "# Exercise 1b -- don't edit this cell\n",
    "%timeit find_smallest_int(0, custom_factorial, 1_000)\n",
    "%timeit find_smallest_int(0, custom_factorial, 10_000)\n",
    "%timeit find_smallest_int(0, custom_factorial, 100_000)\n",
    "\n",
    "\n",
    "\n",
    "%timeit find_smallest_int(0, lambda x: x ** 2, 1_000)\n",
    "%timeit find_smallest_int(0, lambda x: x ** 2, 10_000)\n",
    "%timeit find_smallest_int(0, lambda x: x ** 2, 100_000)"
   ]
  },
  {
   "cell_type": "code",
   "execution_count": 13,
   "id": "5e96be8e",
   "metadata": {
    "scrolled": false
   },
   "outputs": [
    {
     "name": "stdout",
     "output_type": "stream",
     "text": [
      "0.86\n",
      "0.876\n",
      "0.339\n",
      "0.318\n"
     ]
    }
   ],
   "source": [
    "# Compare ratios here\n",
    "Ratio_cf_1 = round((8.21/9.55),3)\n",
    "Ratio_cf_2 = round((9.55/10.9),3)\n",
    "Ratio_1ambda_1 = round((25.7/75.9),3)\n",
    "Ratio_lambda_2 = round((75.9/239),3)\n",
    "\n",
    "print(Ratio_cf_1)\n",
    "print(Ratio_cf_2)\n",
    "print(Ratio_1ambda_1)\n",
    "print(Ratio_lambda_2)"
   ]
  },
  {
   "cell_type": "markdown",
   "id": "0429212c",
   "metadata": {},
   "source": [
    "### Response to Exercise 3f\n",
    "\n",
    "1. The lambda function takes longer to run for a fixed value of c. This ight be because the lambda fucntion is a quadratic function, therefore, it requires more iterations for larger constants, resulting in longer computation times\n",
    "\n",
    "2. The factorial function's runtimes should grow much faster because its growth rate is factorial, which is much steeper compared to the quadratic growth of the lambda function "
   ]
  },
  {
   "cell_type": "markdown",
   "id": "2987b626",
   "metadata": {},
   "source": [
    "## Exercise 4 -- Fibonacci Sequence\n",
    "The Fibonacci Sequence is an infinite sequence of integers $X_0, X_1, X_2, X_3, ...$ defined as below\n",
    "\n",
    "$$\n",
    "X_0 = 0\n",
    "$$\n",
    "$$\n",
    "X_1 = 1\n",
    "$$\n",
    "$$\n",
    "\\hspace{3.66cm}X_t = X_{t-1} + X_{t-2} \\text{ for } t \\geq 2\n",
    "$$\n",
    "\n",
    "Below define a function called `fibo_seq` that takes $t$ as an input and returns $X_t$, the $t$-th element of the Fibonacci Sequence. \n"
   ]
  },
  {
   "cell_type": "code",
   "execution_count": 14,
   "id": "af4f720b",
   "metadata": {},
   "outputs": [],
   "source": [
    "## Exercise 4 Code\n",
    "def fibo_seq(t):\n",
    "    x = 0\n",
    "    if t == 0:\n",
    "        return 0\n",
    "    if t == 1:\n",
    "        return 1\n",
    "    # Initialize the first two Fibonacci numbers\n",
    "    a, b = 0, 1\n",
    "\n",
    "    # Iterate from 2 to n\n",
    "    for _ in range(2, t + 1):\n",
    "        # Compute the next Fibonacci number\n",
    "        a, b = b, a + b\n",
    "\n",
    "    return b"
   ]
  },
  {
   "cell_type": "code",
   "execution_count": 15,
   "id": "76c3597e",
   "metadata": {},
   "outputs": [
    {
     "data": {
      "text/plain": [
       "3"
      ]
     },
     "execution_count": 15,
     "metadata": {},
     "output_type": "execute_result"
    }
   ],
   "source": [
    "fibo_seq(4)"
   ]
  },
  {
   "cell_type": "markdown",
   "id": "10cd6fbc",
   "metadata": {},
   "source": [
    "## Exercise 5 -- Palindrome Detector\n",
    "A palindrome is a word or phrase that is spelled the same backwards as it is forwards (ignoring spaces). Create a function called `is_palindrome` that takes a list of strings and returns a list of Boolean variables that indicate whether the respective string is a palindrome or not. **Ignore capitalization and spaces**. \n",
    "\n",
    "When you're ready, test your function out on the cell below where `palindromes` and `nonpalindromes` are defined. Your function should return `[True, True, True, True, True]` for the former and `[False, False, False]` for the latter.\n",
    "\n",
    "\n",
    "**Hints**\n",
    "- A method will help you get rid of the white space\n",
    "- Look up on Google how to reverse a string as the reverse method only exists for lists"
   ]
  },
  {
   "cell_type": "code",
   "execution_count": 16,
   "id": "fa2d5b1a",
   "metadata": {},
   "outputs": [],
   "source": [
    "# Exercise 5 -- create is_palindrome function here\n",
    "def is_palindrome(strings):\n",
    "    results = []\n",
    "    for s in strings:\n",
    "        normalized = s.replace(\" \", \"\").lower()\n",
    "        results.append(normalized == normalized[::-1])\n",
    "    return results"
   ]
  },
  {
   "cell_type": "code",
   "execution_count": 17,
   "id": "2334af93",
   "metadata": {},
   "outputs": [
    {
     "name": "stdout",
     "output_type": "stream",
     "text": [
      "[True, True, True, True, True]\n",
      "[False, False, False]\n"
     ]
    }
   ],
   "source": [
    "# Run this cell when you're ready -- do not edit it\n",
    "palindromes = [\"Radar\", \"Taco cat\", \"Stressed Desserts\", \"no Lemon no melon\", \"!??!!??!\"]\n",
    "nonpalindromes = [\"Hello World\", \"VSP\", \"Vancouver Canada\"]\n",
    "\n",
    "print(is_palindrome(palindromes))\n",
    "print(is_palindrome(nonpalindromes))"
   ]
  },
  {
   "cell_type": "markdown",
   "id": "86aa87b3",
   "metadata": {},
   "source": [
    "## Exercise 6 -- Comparison Operators & List Comprehensions\n",
    "Using `num_list` and list comprehensions, create three lists that correspond to the elements in num_list:\n",
    "1. `equal_list` whose elements should be true if the corresponding element in `num_list` is equal to 0 and false otherwise.\n",
    "2. `greater_list` whose elements should be true if the corresponding element in `num_list` is strictly greater than 0 and false otherwise.\n",
    "3. `lesser_list` whose elements should be true if the corresponding element in `num_list` is strictly less than 0 and false otherwise.\n",
    "4. Finally, using the three lists you generated, list comprehensions, and `zip()`, create `true_list` a list of length 7 where every element is true. \n",
    "\n",
    "**Hints for 4:** \n",
    "- `zip` can be used on more than two lists\n",
    "- use `or` within the list comprehension"
   ]
  },
  {
   "cell_type": "code",
   "execution_count": 18,
   "id": "7a770f90",
   "metadata": {},
   "outputs": [
    {
     "name": "stdout",
     "output_type": "stream",
     "text": [
      "[False, False, False, True, False, False, False]\n",
      "[False, False, False, False, True, True, True]\n",
      "[True, True, True, False, False, False, False]\n",
      "[True, True, True, True, True, True, True]\n"
     ]
    }
   ],
   "source": [
    "# Exercise 6 Code\n",
    "# Don't edit the line below\n",
    "num_list = [-5, -3, -1, 0, 1, 3, 5]\n",
    "\n",
    "# your code below here\n",
    "# your code below here\n",
    "equal_list = [\n",
    "    num_list[0] == 0,\n",
    "    num_list[1] == 0,\n",
    "    num_list[2] == 0,\n",
    "    num_list[3] == 0,\n",
    "    num_list[4] == 0,\n",
    "    num_list[5] == 0,\n",
    "    num_list[6] == 0,\n",
    "]\n",
    "\n",
    "greater_list = [\n",
    "    num_list[0] > 0,\n",
    "    num_list[1] > 0,\n",
    "    num_list[2] > 0,\n",
    "    num_list[3] > 0,\n",
    "    num_list[4] > 0,\n",
    "    num_list[5] > 0,\n",
    "    num_list[6] > 0,\n",
    "]\n",
    "\n",
    "lesser_list = [\n",
    "    num_list[0] < 0,\n",
    "    num_list[1] < 0,\n",
    "    num_list[2] < 0,\n",
    "    num_list[3] < 0,\n",
    "    num_list[4] < 0,\n",
    "    num_list[5] < 0,\n",
    "    num_list[6] < 0,\n",
    "]\n",
    "\n",
    "true_list = [eq or gt or lt for eq, gt, lt in zip(equal_list, greater_list, lesser_list)]\n",
    "\n",
    "print(equal_list)\n",
    "print(greater_list)\n",
    "print(lesser_list)\n",
    "print(true_list)"
   ]
  },
  {
   "cell_type": "markdown",
   "id": "c8b7d7b3",
   "metadata": {},
   "source": [
    "## Exercise 7 -- List Comprehensions and Very Basic Plotting\n",
    "Complete the following steps in the cells below:\n",
    "1. Import the `math` module and give it an alias of `mt`.\n",
    "2. Import the `matplotlib.pyplot` module and give it an alias of `plt`.\n",
    "3. Create a variable named `num_range` and set it equal to a range of numbers from 0 to 1000 (including 1000).\n",
    "4. Using `num_range` and a list comprehension, create a list called `sine_list` that is equal to `sin((pi/100) * x)` for every `x` in the range `num_range`. (**Hint:** sin and pi are objects from the math library.)\n",
    "5. Finally, using `plt`, `num_range`, and `sine_list`, generate a line plot. "
   ]
  },
  {
   "cell_type": "code",
   "execution_count": 19,
   "id": "0f6bfae5",
   "metadata": {},
   "outputs": [
    {
     "data": {
      "image/png": "[encoded data removed]",
      "text/plain": [
       "<Figure size 432x288 with 1 Axes>"
      ]
     },
     "metadata": {
      "needs_background": "light"
     },
     "output_type": "display_data"
    }
   ],
   "source": [
    "# Exercise 7 Code\n",
    "import math as mt\n",
    "import matplotlib.pyplot as plt\n",
    "num_range = range(1001)\n",
    "\n",
    "sine_list = [mt.sin((mt.pi/100) * x) for x in num_range]\n",
    "\n",
    "# Plotting\n",
    "plt.plot(num_range, sine_list)\n",
    "plt.title('Line Plot')\n",
    "plt.xlabel('num_range')\n",
    "plt.ylabel('sine_list')\n",
    "plt.grid(True)\n",
    "plt.show()"
   ]
  }
 ],
 "metadata": {
  "kernelspec": {
   "display_name": "Python 3 (ipykernel)",
   "language": "python",
   "name": "python3"
  },
  "language_info": {
   "codemirror_mode": {
    "name": "ipython",
    "version": 3
   },
   "file_extension": ".py",
   "mimetype": "text/x-python",
   "name": "python",
   "nbconvert_exporter": "python",
   "pygments_lexer": "ipython3",
   "version": "3.9.12"
  }
 },
 "nbformat": 4,
 "nbformat_minor": 5
}
