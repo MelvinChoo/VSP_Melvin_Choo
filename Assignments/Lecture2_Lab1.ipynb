{
 "cells": [
  {
   "cell_type": "markdown",
   "id": "fea96cfa",
   "metadata": {},
   "source": [
    "# Lab Assignment 1 -- Fundamentals\n",
    "In this lab, you will complete a series of exercises related to the lecture material on coding fundamentals and collections. \n",
    "\n",
    "Since this is the first lab that involves coding, we will begin with an exercise related to Jupyter notebook functionality."
   ]
  },
  {
   "cell_type": "markdown",
   "id": "5b0e6098",
   "metadata": {},
   "source": [
    "## Exercise 1 -- Jupyter Markdown Basics\n",
    "Jupyter notebooks allows cells to be interpreted as either code or Markdown. Markdown is a lightweight formatting language. In fact, what you're reading right now is written in Markdown. The syntax is very simple and a reference for common commands can be found [here](https://www.markdownguide.org/cheat-sheet/). Use this reference guide to complete the following steps:\n",
    "\n",
    "1. Create a cell below this one by using the insert drop down menu or by clicking on the left of this box (so the side bar turns blue) and tapping the <kbd>b</kbd> key.\n",
    "2. Make the cell a Markdown cell by clicking on it and using the drop down menu above.\n",
    "3. Using the reference guide, find out how to create the **smallest** heading  and use it give the cell you create a header of \"Solution to Exercise 1\" without the quotes.\n",
    "4. Using the reference guide, figure out how to make ordered and unordered lists. Using an unordered list, list three of the things you hope to learn from this class.\n",
    "5. Sometimes, we want to reference specific code or code objects in the text of Markdown. Markdown allows us to format such reference so that it appears in a gray box (e.g. `x=3`). Using the reference guide, figure out how to format code and format  x = 3, so it has a gray box around it in the cell you created. "
   ]
  },
  {
   "cell_type": "markdown",
   "id": "d79f7513",
   "metadata": {},
   "source": [
    "###### Solution to Exercise 1\n",
    "1. Understand the fundamentals of python\n",
    "2. Dive deeper into the additional libraries and alliases that are available\n",
    "3. Learn how to use Regression and Classification using Python\n",
    "\n",
    "`x=3`"
   ]
  },
  {
   "cell_type": "markdown",
   "id": "7835167d",
   "metadata": {},
   "source": [
    "## Exercise 2 -- Basic Variable Assignment\n",
    "Complete the following steps in the cells below.\n",
    "1. Generate a variable called `x_flt` and set it equal to 3.0. Print its type.\n",
    "2. Generate a variable called `x_int` and set it equal to 3. Print its type.\n",
    "3. Generate a variable called  `x_str` and set it equal to \"3\". Print its type.\n",
    "4. Which of these two variables can you add together with the `+` operator? Why? Answer in the Markdown cell below. "
   ]
  },
  {
   "cell_type": "code",
   "execution_count": 1,
   "id": "7112f2a9",
   "metadata": {},
   "outputs": [
    {
     "name": "stdout",
     "output_type": "stream",
     "text": [
      "<class 'float'>\n",
      "<class 'int'>\n",
      "<class 'str'>\n"
     ]
    }
   ],
   "source": [
    "# Exercise 2 Code\n",
    "x_flt = 3.0\n",
    "print(type(x_flt))\n",
    "\n",
    "x_int = 3\n",
    "print(type(x_int))\n",
    "\n",
    "x_str = \"3\"\n",
    "print(type(x_str))"
   ]
  },
  {
   "cell_type": "markdown",
   "id": "70b8adf0",
   "metadata": {},
   "source": [
    "### Response to 2.4\n",
    "\n",
    "We can only add float and string variables together as they are able to make a logical result which is of a float type. On the other hand, adding an int or float to a str type will give an error in the result. "
   ]
  },
  {
   "cell_type": "markdown",
   "id": "9db99652",
   "metadata": {},
   "source": [
    "## Exercise 3 -- Variable Reassignment\n",
    "Complete the following steps in the cells below.\n",
    "1. Assign `x` equal to `\"good\"`\n",
    "2. Assign `y` equal to `x`\n",
    "3. Reassign `x` to `\"bad\"`\n",
    "4. Use `print` to print `y`\n",
    "5. Does the print statement print \"good\" or a \"bad\"? Did changing `x` to \"bad\" affect anything? Why or why not? Answer in the Markdown cell below."
   ]
  },
  {
   "cell_type": "code",
   "execution_count": 2,
   "id": "9c154552",
   "metadata": {
    "scrolled": true
   },
   "outputs": [
    {
     "name": "stdout",
     "output_type": "stream",
     "text": [
      "good\n"
     ]
    }
   ],
   "source": [
    "# Exercise 3 Code\n",
    "x = \"good\"\n",
    "y = x\n",
    "x = \"bad\"\n",
    "print(y)"
   ]
  },
  {
   "cell_type": "markdown",
   "id": "b24737e5",
   "metadata": {},
   "source": [
    "### Response to 3.5\n",
    "The statement prints \"good\". This is because variable x has been riginally assigned \"good\". Reassigning the varibale x to \"bad\" in line 4 does not change its original assignment in line 2. Hence, y will always be the original x which is \"good\". "
   ]
  },
  {
   "cell_type": "markdown",
   "id": "4700d845",
   "metadata": {},
   "source": [
    "## Exercise 4 -- Basic Arithmetic\n",
    "Generate the following variables with the corresponding value in the cell below:\n",
    "1. `x` equal to 20\n",
    "2. `y` equal to 10\n",
    "3. `z1` equal to the sum of `x` and `y`\n",
    "4. `z2` equal to `x` minus `y`\n",
    "5. `z3` equal to `x` times `y` \n",
    "6. `z4` equal to `x` divided by `y` \n",
    "\n",
    "Answer the following question in the Markdown Cell Below\n",
    "\n",
    "7. Use `type()` to deterimine which of these variables is a floating point number? Why is this the case?"
   ]
  },
  {
   "cell_type": "code",
   "execution_count": 3,
   "id": "564b49ec",
   "metadata": {},
   "outputs": [],
   "source": [
    "# Exercise 4 Code\n",
    "x = 20\n",
    "y = 10\n",
    "z1 = x + y \n",
    "z2 = x - y\n",
    "z3 = x*y\n",
    "z4 = x / y"
   ]
  },
  {
   "cell_type": "markdown",
   "id": "ac2063f9",
   "metadata": {},
   "source": [
    "### Response to 4.7"
   ]
  },
  {
   "cell_type": "code",
   "execution_count": 4,
   "id": "26e05e804aba213c",
   "metadata": {},
   "outputs": [
    {
     "name": "stdout",
     "output_type": "stream",
     "text": [
      "<class 'int'>\n",
      "<class 'int'>\n",
      "<class 'int'>\n",
      "<class 'int'>\n",
      "<class 'int'>\n",
      "<class 'float'>\n",
      "z4 is a floating point number due to true division; the result of dividing two integers will result in a float type\n"
     ]
    }
   ],
   "source": [
    "print (type(x))\n",
    "print (type(y))\n",
    "print (type(z1))\n",
    "print (type(z2))\n",
    "print (type(z3))\n",
    "print (type(z4))\n",
    "print(\"z4 is a floating point number due to true division; the result of dividing two integers will result in a float type\")"
   ]
  },
  {
   "cell_type": "markdown",
   "id": "2024ad69c823f131",
   "metadata": {},
   "source": [
    "## Exercise 5 -- String Formatting\n",
    "Complete the following steps in the cell below:\n",
    "1. Define a list called `cities` that contains the names of three cities you would like to visit. \n",
    "2. Define a corresponding list called `countries` where an entry is the country of each of those three cities.\n",
    "3. Using these lists and f strings, print a sentence that says what country a city is in for each city in your list\n",
    "4. Now do the same thing again but use the `.format()` method instead of f strings."
   ]
  },
  {
   "cell_type": "code",
   "execution_count": 5,
   "id": "4bb3c5643a0ee99e",
   "metadata": {},
   "outputs": [
    {
     "name": "stdout",
     "output_type": "stream",
     "text": [
      "Penang is in Malaysia.\n",
      "Tokyo is in Japan.\n",
      "Busan is in Korea.\n",
      "\n",
      "Penang is in Malaysia.\n",
      "Tokyo is in Japan.\n",
      "Busan is in Korea.\n"
     ]
    }
   ],
   "source": [
    "# Exercise 5 Code\n",
    "cities = [\"Penang\", \"Tokyo\", \"Busan\"]\n",
    "countries = [\"Malaysia\", \"Japan\", \"Korea\"]\n",
    "string_1 = f\"{cities[0]} is in {countries[0]}.\"\n",
    "string_2 = f\"{cities[1]} is in {countries[1]}.\"\n",
    "string_3 = f\"{cities[2]} is in {countries[2]}.\"\n",
    "print(string_1)\n",
    "print(string_2)\n",
    "print(string_3)\n",
    "print()\n",
    "string_4 = \"{city} is in {country}.\"\n",
    "print(string_4.format(city = cities[0], country = countries[0]))\n",
    "string_5 = \"{city} is in {country}.\"\n",
    "print(string_5.format(city = cities[1], country = countries[1]))\n",
    "string_6 = \"{city} is in {country}.\"\n",
    "print(string_6.format(city = cities[2], country = countries[2]))"
   ]
  },
  {
   "cell_type": "markdown",
   "id": "fce68f68177b1995",
   "metadata": {},
   "source": [
    "## Exercise 6 -- String Concatenation\n",
    "Complete the following steps in the cell below:\n",
    "1. Assign `b` to be equal to \"b\"\n",
    "2. Assign `a` to be equal to \"a\"\n",
    "3. Assign `n` to be equal to \"n\"\n",
    "4. Using these variables, `+`, and `print`, print the the word \"banana\""
   ]
  },
  {
   "cell_type": "code",
   "execution_count": 6,
   "id": "7cd33ad42612cc2",
   "metadata": {},
   "outputs": [
    {
     "name": "stdout",
     "output_type": "stream",
     "text": [
      "banana\n"
     ]
    }
   ],
   "source": [
    "# Exercise 6 Code\n",
    "b= 'b'\n",
    "a ='a'\n",
    "n = 'n'\n",
    "word = b+a+n+a+n+a\n",
    "print(word)"
   ]
  },
  {
   "cell_type": "markdown",
   "id": "293a4c9fc698f9d9",
   "metadata": {},
   "source": [
    "## Exercise 7 -- Boolean Variable Keywords\n",
    "Assign `a`, `b`,`c`, and `d`, so that every print statement below is true. \n",
    "\n",
    "\n",
    "Afterwards, answer the following quesiton in the Markdown cell below:\n",
    "\n",
    "Is the configuration of `a`, `b`,`c`, and `d` that makes both statements true unique? Why or why not? If it isn't unique, add another print statement to the list to rule out other configurations?"
   ]
  },
  {
   "cell_type": "code",
   "execution_count": 7,
   "id": "6a5495628c88bf25",
   "metadata": {},
   "outputs": [],
   "source": [
    "# Exercise 7 Code\n",
    "a = False\n",
    "b = False\n",
    "c = False\n",
    "d = True"
   ]
  },
  {
   "cell_type": "code",
   "execution_count": 8,
   "id": "5c6037cdfe69c6aa",
   "metadata": {},
   "outputs": [
    {
     "name": "stdout",
     "output_type": "stream",
     "text": [
      "True\n",
      "True\n",
      "False\n"
     ]
    }
   ],
   "source": [
    "# Uncomment the lines below when you have defined the variables to check your results \n",
    "print(((a and b) or (c and d)) == False)\n",
    "print(((a or c) and (b or d)) == False)\n",
    "print(a and (not b) and (not c) and (not d))"
   ]
  },
  {
   "cell_type": "code",
   "execution_count": 9,
   "id": "30b05eee2d5938e9",
   "metadata": {},
   "outputs": [
    {
     "name": "stdout",
     "output_type": "stream",
     "text": [
      "True\n",
      "True\n",
      "True\n"
     ]
    }
   ],
   "source": [
    "# Exercise 7 Solution \n",
    "a = True\n",
    "b = False\n",
    "c = False\n",
    "d = False\n",
    " \n",
    "print(((a and b) or (c and d)) == False)\n",
    "print(((a or c) and (b or d)) == False)\n",
    "print(a and (not b) and (not c) and (not d))"
   ]
  },
  {
   "cell_type": "code",
   "execution_count": 10,
   "id": "11b27a4a",
   "metadata": {},
   "outputs": [
    {
     "name": "stdout",
     "output_type": "stream",
     "text": [
      "False\n",
      "False\n",
      "False\n",
      "Hence, it is not unique\n"
     ]
    }
   ],
   "source": [
    "print(((a and b) or (c and d)) == True)\n",
    "print(((a or c) and (b or d)) == True)\n",
    "print(b and (not a) and (not c) and (not d)) \n",
    "\n",
    "print(\"Hence, it is not unique\") "
   ]
  }
 ],
 "metadata": {
  "kernelspec": {
   "display_name": "Python 3 (ipykernel)",
   "language": "python",
   "name": "python3"
  },
  "language_info": {
   "codemirror_mode": {
    "name": "ipython",
    "version": 3
   },
   "file_extension": ".py",
   "mimetype": "text/x-python",
   "name": "python",
   "nbconvert_exporter": "python",
   "pygments_lexer": "ipython3",
   "version": "3.9.12"
  }
 },
 "nbformat": 4,
 "nbformat_minor": 5
}
