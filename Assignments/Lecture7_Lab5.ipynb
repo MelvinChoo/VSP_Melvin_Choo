{
 "cells": [
  {
   "cell_type": "markdown",
   "id": "aa4602c3",
   "metadata": {},
   "source": [
    "# Lab Assignment 4 -- Arrays, Matrices, and NumPy\n",
    "In this lab, you will complete a series of exercises related to the lecture material on arrays, matrices, and NumPy, You will have to do some calculations on a piece of paper or tablet -- submit either pictures or a PDF of your work with this Notebook."
   ]
  },
  {
   "cell_type": "markdown",
   "id": "36d604de",
   "metadata": {},
   "source": [
    "Throughout this assignment, we will refer to the following arrays.\n",
    "$$\n",
    "A = \\left[\\begin{array}{ccc}\n",
    "1 & 5 & 3\\\\ 5 & -4 & 2\\\\ 3 & 2 & 1 \n",
    "\\end{array}\\right], B = \\left[\\begin{array}{cccc}\n",
    "0 & 1 & 3 & 9\\\\ 6 & -1 & -2 & -9\\\\ 2 & 5 & 1 &2\n",
    "\\end{array}\\right], C = \\left[\\begin{array}{ccc}\n",
    "1 & 5 & -13\\\\ 7 & -7 & 7\\\\ 2 & -3 & 1 \\\\ 0 & 7 & -6\n",
    "\\end{array}\\right] \\\\ d = \\left[\\begin{array}{c}\n",
    "1 \\\\ -3\\\\ 2\n",
    "\\end{array}\\right], f= \\left[\\begin{array}{c}\n",
    "-2 \\\\ 4\\\\ 1\n",
    "\\end{array}\\right],g = \\left[\\begin{array}{c}\n",
    "-1 \\\\ 10 \\\\ -1\\\\ 5\n",
    "\\end{array}\\right]\n",
    "$$"
   ]
  },
  {
   "cell_type": "markdown",
   "id": "6814b00c",
   "metadata": {},
   "source": [
    "## Exercise 1 -- Defining Arrays\n",
    "Import `numpy` with the alias np and define the matrices above manually in the cell below. Make sure you define these carefully as subsequent responses will be incorrect otherwise. \n",
    "\n",
    "<span style=\"color: red;\"> **Be Careful!**</span>  After defining these objects, don't reassign these variable names to a different object for the rest of the assignment."
   ]
  },
  {
   "cell_type": "code",
   "execution_count": 1,
   "id": "1e9acd73",
   "metadata": {},
   "outputs": [
    {
     "name": "stdout",
     "output_type": "stream",
     "text": [
      "[[ 1  5  3]\n",
      " [ 5 -4  2]\n",
      " [ 3  2  1]]\n",
      "----------------\n",
      "[[ 0  1  3  9]\n",
      " [ 6 -1 -2 -9]\n",
      " [ 2  5  1  2]]\n",
      "----------------\n",
      "[[  1   5 -13]\n",
      " [  7  -7   7]\n",
      " [  2  -3   1]\n",
      " [  0   7  -6]]\n",
      "----------------\n",
      "[[ 1]\n",
      " [-3]\n",
      " [ 2]]\n",
      "----------------\n",
      "[[-2]\n",
      " [ 4]\n",
      " [ 1]]\n",
      "----------------\n",
      "[[-1]\n",
      " [10]\n",
      " [-1]\n",
      " [ 5]]\n"
     ]
    }
   ],
   "source": [
    "# Exercise 1 code\n",
    "import numpy as np\n",
    "A = np.array([[1, 5, 3],\n",
    "              [5, -4, 2],\n",
    "              [3, 2, 1]])\n",
    "B = np.array([[0, 1, 3, 9],\n",
    "              [6, -1, -2, -9],\n",
    "              [2, 5, 1, 2]])\n",
    "C = np.array([[1, 5, -13],\n",
    "              [7, -7, 7],\n",
    "              [2, -3, 1],\n",
    "              [0, 7, -6]])\n",
    "d = np.array([[1], [-3], [2]])\n",
    "f = np.array([[-2], [4], [1]])\n",
    "g = np.array([[-1], [10], [-1], [5]])\n",
    "print(A)\n",
    "print(\"----------------\")\n",
    "print(B)\n",
    "print(\"----------------\")\n",
    "print(C)\n",
    "print(\"----------------\")\n",
    "print(d)\n",
    "print(\"----------------\")\n",
    "print(f)\n",
    "print(\"----------------\")\n",
    "print(g)"
   ]
  },
  {
   "cell_type": "markdown",
   "id": "445dc79e",
   "metadata": {},
   "source": [
    "##  Exercise 2 -- Array Addition\n",
    "Is the operation $d + f$ possible? What about $d + g$? Why or why not? Answer in the markdown cell below. For each possible operation, print its result in the code cell below.\n"
   ]
  },
  {
   "cell_type": "code",
   "execution_count": 2,
   "id": "36bb39c3",
   "metadata": {},
   "outputs": [
    {
     "name": "stdout",
     "output_type": "stream",
     "text": [
      "[[-1]\n",
      " [ 1]\n",
      " [ 3]]\n"
     ]
    }
   ],
   "source": [
    "# Exercise 2 code\n",
    "print(d+f)"
   ]
  },
  {
   "cell_type": "markdown",
   "id": "8dc481c1",
   "metadata": {},
   "source": [
    "### Response to Exercise 2\n",
    "The operation d + f is possible while d + g is not possible. This is because the size of the matrices must be of the same saize when performing addition. Since d and f are of the same size, 3x1, the operation is possible. "
   ]
  },
  {
   "cell_type": "markdown",
   "id": "7cffe2ea",
   "metadata": {},
   "source": [
    "## Exercise 3 -- Dot Product\n",
    "On a piece of paper or tablet, **legibly** calculate the dot product of $d$ and $f$. Label your response as \"Solution to Exercise 3\". Show your work as we did in lecture. Check your solution by calling `np.dot()` in the cell below. "
   ]
  },
  {
   "cell_type": "code",
   "execution_count": 3,
   "id": "f8328d5e",
   "metadata": {},
   "outputs": [
    {
     "name": "stdout",
     "output_type": "stream",
     "text": [
      "[[-12]]\n"
     ]
    }
   ],
   "source": [
    "# Exercise 3 code\n",
    "print(np.dot(d.T,f))"
   ]
  },
  {
   "cell_type": "markdown",
   "id": "1499a45d",
   "metadata": {},
   "source": [
    "## Exercise 4 -- Vector Slices\n",
    "Using only `g` and slice indexing, assign `[10 -1]` to `tiny_array`. What is the type of `tiny_array`? Why is this desirable behavior? Answer in Markdown. "
   ]
  },
  {
   "cell_type": "code",
   "execution_count": 4,
   "id": "edaadcc6",
   "metadata": {},
   "outputs": [
    {
     "name": "stdout",
     "output_type": "stream",
     "text": [
      "<class 'numpy.ndarray'>\n"
     ]
    }
   ],
   "source": [
    "# Exercise 4 code\n",
    "tiny_array = g[1:3]\n",
    "print(type(tiny_array))"
   ]
  },
  {
   "cell_type": "markdown",
   "id": "8e87d5fa",
   "metadata": {},
   "source": [
    "### Response to Exercise 4\n",
    "tiny_array is of type <class 'numpy.ndarray'>. This is desirable as returning a slice as a NumPy array allows for continued use of optimized NumPy operations and methods. "
   ]
  },
  {
   "cell_type": "markdown",
   "id": "bce70be0",
   "metadata": {},
   "source": [
    "## Exercise 5 -- Matrix Transposes and Addition\n",
    "On a piece of paper or tablet, **legibly** calculate the sum of $B$ and the transpose of $C$. Label your response as \"Solution to Exercise 5\". Show your work as we did in lecture. \n",
    "\n",
    "Check your solution in the cell below. Could we add $B$ and $C$? Answer in the Markdown cell below. "
   ]
  },
  {
   "cell_type": "code",
   "execution_count": 5,
   "id": "5459f3a6",
   "metadata": {
    "scrolled": true
   },
   "outputs": [
    {
     "name": "stdout",
     "output_type": "stream",
     "text": [
      "[[  1   8   5   9]\n",
      " [ 11  -8  -5  -2]\n",
      " [-11  12   2  -4]]\n"
     ]
    }
   ],
   "source": [
    "# Exercise 5 code\n",
    "print(B+C.T)"
   ]
  },
  {
   "cell_type": "markdown",
   "id": "73d9ee90",
   "metadata": {},
   "source": [
    "### Response to Exercise 5\n",
    "No. We cannot add B and C. This is because the the original size of C does not match the size of B. "
   ]
  },
  {
   "cell_type": "markdown",
   "id": "9143d0da",
   "metadata": {},
   "source": [
    "## Exercise 6 -- Matrix Indexing\n",
    "Complete the following steps:\n",
    "- Define a variable `tiny_mat` and set it equal to `np.array([[-7, 7], [-3, 1]])`.\n",
    "- Using only `C` and slice-indexing, recreate `tiny_mat` and assign it to `tiny_mat_clone`. \n",
    "- Define a funcion called `compare_arrs` that takes two arrays and prints \"Arrays are the same!\" if the arrays are the same and \"Arrays are different!\" if the arrays are different.  \n",
    "- Call `compare_arrs` on `tiny_mat` and `tiny_mat_clone`.\n",
    "- Call `compare_arrs` on `np.array([1, 3, 4])` and `tiny_mat_clone`. \n",
    "\n",
    "\n",
    "**Hint:** Use `np.array_equal()` within `compare_arrs`."
   ]
  },
  {
   "cell_type": "code",
   "execution_count": 6,
   "id": "ccf0fe9b",
   "metadata": {},
   "outputs": [
    {
     "name": "stdout",
     "output_type": "stream",
     "text": [
      "[[  1   5 -13]\n",
      " [  7  -7   7]\n",
      " [  2  -3   1]\n",
      " [  0   7  -6]]\n",
      "----------\n",
      "[[-7  7]\n",
      " [-3  1]]\n",
      "----------\n",
      "[[-7  7]\n",
      " [-3  1]]\n"
     ]
    }
   ],
   "source": [
    "# Exercise 6 -- Define Matrices\n",
    "print(C)\n",
    "print(\"----------\")\n",
    "tiny_mat = np.array([[-7, 7], [-3, 1]])\n",
    "print(tiny_mat)\n",
    "print(\"----------\")\n",
    "tiny_mat_clone = C[1:3, 1:3]\n",
    "print(tiny_mat_clone)"
   ]
  },
  {
   "cell_type": "code",
   "execution_count": 7,
   "id": "5340e4cb",
   "metadata": {},
   "outputs": [],
   "source": [
    "# Exercise 6 -- Define Function\n",
    "def compare_arrs(arr1, arr2):\n",
    "    if np.array_equal(arr1, arr2):\n",
    "        print(\"Arrays are the same!\")\n",
    "    else:\n",
    "        print(\"Arrays are different!\")"
   ]
  },
  {
   "cell_type": "code",
   "execution_count": 8,
   "id": "3e32c3ad",
   "metadata": {
    "scrolled": true
   },
   "outputs": [
    {
     "name": "stdout",
     "output_type": "stream",
     "text": [
      "Arrays are the same!\n",
      "Arrays are different!\n"
     ]
    }
   ],
   "source": [
    "# Exercise 6 -- Call compare_arrs\n",
    "compare_arrs(tiny_mat, tiny_mat_clone)\n",
    "\n",
    "compare_arrs(np.array([1, 3, 4]), tiny_mat_clone)"
   ]
  },
  {
   "cell_type": "markdown",
   "id": "fe3bbe39",
   "metadata": {},
   "source": [
    "## Exercise 7 -- Symmetric Matrices\n",
    "A **symmetric matrix** is a matrix that is equal to its transpose. Using your function `compare_arrs`, test whether `A`, `B`, and `C` are symmetric. What does it say about the symmetry of a matrix when \"Arrays are the same!\" is printed? Answer in the Markdown cell below. "
   ]
  },
  {
   "cell_type": "code",
   "execution_count": 9,
   "id": "c6b6d501",
   "metadata": {
    "scrolled": true
   },
   "outputs": [
    {
     "name": "stdout",
     "output_type": "stream",
     "text": [
      "Arrays are the same!\n",
      "Arrays are different!\n",
      "Arrays are different!\n"
     ]
    }
   ],
   "source": [
    "# Exercise 7 code\n",
    "compare_arrs(A,A.T)\n",
    "compare_arrs(B,B.T)\n",
    "compare_arrs(C,C.T)"
   ]
  },
  {
   "cell_type": "markdown",
   "id": "9a11d543",
   "metadata": {},
   "source": [
    "### Response to Exercise 7\n",
    "Only A is symmetric while B and C not not symmetric matrices. 'Arrays are the same' means that the values in the rows and columns of the original matrix will be equal to the values in the rows and columns of the transpose. "
   ]
  },
  {
   "cell_type": "markdown",
   "id": "e1b4c19e",
   "metadata": {},
   "source": [
    "## Exercise 8 -- Matrix Concatenation\n",
    "We can glue or **concatenate** two arrays together using `np.vstack()` and `np.hstack()`. Each function takes a list of arrays as an argument. The former concatenates two arrays vertically (think of stacking rectangles on top of eachother) while the latter concatenates them horizontally (think of stacking rectangles side-by-side).\n",
    "\n",
    "Answer the following questions below:\n",
    "- If we call `np.vstack([A, B])` and it executes successfully, what must be true about the size of `A `and `B`?\n",
    "- If we call `np.hstack([A, B])` and it executes successfully, what must be true about the size of `A `and `B`?\n",
    "\n",
    "**Hint:** Try concatenating two arrays until you get an error. What does the error say?"
   ]
  },
  {
   "cell_type": "code",
   "execution_count": 10,
   "id": "30265351",
   "metadata": {},
   "outputs": [
    {
     "name": "stdout",
     "output_type": "stream",
     "text": [
      "Horizontal stack result:\n",
      " [[ 1  5  3  0  1  3  9]\n",
      " [ 5 -4  2  6 -1 -2 -9]\n",
      " [ 3  2  1  2  5  1  2]]\n"
     ]
    }
   ],
   "source": [
    "# Exercise 8 -- Test vstack and hstack here as needed\n",
    "#vstack_result = np.vstack([A, B])\n",
    "#print(\"Vertical stack result:\\n\", vstack_result)\n",
    "#vstack results in an error\n",
    "\n",
    "hstack_result = np.hstack([A, B])\n",
    "print(\"Horizontal stack result:\\n\", hstack_result)"
   ]
  },
  {
   "cell_type": "markdown",
   "id": "08e35010",
   "metadata": {},
   "source": [
    "### Response to Exercise 8\n",
    "1. To stack A and B vertically, they must have the same number of columns.\n",
    "2. To stack A and B horizontally, they must have the same number of rows. "
   ]
  },
  {
   "cell_type": "markdown",
   "id": "76713bcd",
   "metadata": {},
   "source": [
    "## Exercise 9 -- Element-Wise Multiplication\n",
    "On a piece of paper or tablet, **legibly** calculate the element-wise multiplication of $B$ and the transpose of $C$. Label your response as \"Solution to Exercise 9\". Show your work as we did in lecture. \n",
    "\n",
    "Check your solution in the cell below."
   ]
  },
  {
   "cell_type": "code",
   "execution_count": 11,
   "id": "a7148441",
   "metadata": {},
   "outputs": [
    {
     "name": "stdout",
     "output_type": "stream",
     "text": [
      "[[  0   7   6   0]\n",
      " [ 30   7   6 -63]\n",
      " [-26  35   1 -12]]\n"
     ]
    }
   ],
   "source": [
    "# Exercise 9 Code\n",
    "print(B*C.T)"
   ]
  },
  {
   "cell_type": "markdown",
   "id": "74af3830",
   "metadata": {},
   "source": [
    "## Exercise 10 -- Matrix Multiplication\n",
    "On a piece of paper or tablet, **legibly** complete the following matrix multiplication (not element-wise multiplication!) exercise:\n",
    "$$A * B$$\n",
    "\n",
    "\n",
    "\n",
    "\n",
    "Label your response as \"Solution to Exercise 10\". Show your work as we did in lecture. \n",
    "\n",
    "Check your solution in the cell below uinsg `np.matmul()`."
   ]
  },
  {
   "cell_type": "code",
   "execution_count": 12,
   "id": "4e2798fb",
   "metadata": {},
   "outputs": [
    {
     "name": "stdout",
     "output_type": "stream",
     "text": [
      "[[ 36  11  -4 -30]\n",
      " [-20  19  25  85]\n",
      " [ 14   6   6  11]]\n"
     ]
    }
   ],
   "source": [
    "# Exercise 10 Code\n",
    "print(np.matmul(A, B))"
   ]
  },
  {
   "cell_type": "markdown",
   "id": "0ee66928",
   "metadata": {},
   "source": [
    "## Exercise 11 -- Plotting with `np.linspace`\n",
    "Using `numpy` and `matplotlib.pyplot`, plot the function `sin(log(x))`.\n",
    "Make sure you use a fine grid. \n",
    "\n",
    "**Hint:** Look at lectures for hints. "
   ]
  },
  {
   "cell_type": "code",
   "execution_count": 15,
   "id": "ea993843",
   "metadata": {},
   "outputs": [
    {
     "data": {
      "image/png": "[encoded data removed]",
      "text/plain": [
       "<Figure size 720x432 with 1 Axes>"
      ]
     },
     "metadata": {
      "needs_background": "light"
     },
     "output_type": "display_data"
    }
   ],
   "source": [
    "# Exercise 11 Code\n",
    "import matplotlib.pyplot as plt\n",
    "\n",
    "# Define a fine grid of x values\n",
    "x = np.linspace(1, 25, 101)  # Log(0) is undefined, hence, we will start from '1'\n",
    "\n",
    "# Calculate the function values\n",
    "y = np.sin(np.log(x))\n",
    "\n",
    "# Create the plot\n",
    "plt.figure(figsize=(10, 6))\n",
    "plt.plot(x, y, label=r'$\\sin(\\log(x))$', color='b')\n",
    "plt.xlabel('x')\n",
    "plt.ylabel('sin(log(x)')\n",
    "plt.grid(True)\n",
    "plt.show()"
   ]
  },
  {
   "cell_type": "markdown",
   "id": "e9452e99",
   "metadata": {},
   "source": [
    "## Exercise 12 -- Multidimensional Arrays\n",
    "Run the following command `print(zeros((3,4,5)))` in the cell below and answer the following questions in the Markdown cell below.\n",
    "1. What do you think the dimensionality of this array is?  \n",
    "2. Why would writing this array on paper be difficult? \n",
    "\n"
   ]
  },
  {
   "cell_type": "code",
   "execution_count": 16,
   "id": "541190ea",
   "metadata": {
    "scrolled": true
   },
   "outputs": [
    {
     "name": "stdout",
     "output_type": "stream",
     "text": [
      "[[[0. 0. 0. 0. 0.]\n",
      "  [0. 0. 0. 0. 0.]\n",
      "  [0. 0. 0. 0. 0.]\n",
      "  [0. 0. 0. 0. 0.]]\n",
      "\n",
      " [[0. 0. 0. 0. 0.]\n",
      "  [0. 0. 0. 0. 0.]\n",
      "  [0. 0. 0. 0. 0.]\n",
      "  [0. 0. 0. 0. 0.]]\n",
      "\n",
      " [[0. 0. 0. 0. 0.]\n",
      "  [0. 0. 0. 0. 0.]\n",
      "  [0. 0. 0. 0. 0.]\n",
      "  [0. 0. 0. 0. 0.]]]\n"
     ]
    }
   ],
   "source": [
    "# Exercise 12 Code\n",
    "print(np.zeros((3,4,5)))"
   ]
  },
  {
   "cell_type": "markdown",
   "id": "bb249cad",
   "metadata": {},
   "source": [
    "### Response to Exercise 12\n",
    "1. It is a 3-dimensional array. np.zeros((3,4,5)) would give an array of 3 layers, each containing a matrix of 4 rows and 5 columns. Their values will be set to zero.\n",
    "2. Writing this on paper will be difficult as there are many elements within the matrix that will need to be written down. This adds complexity to visualization. "
   ]
  }
 ],
 "metadata": {
  "kernelspec": {
   "display_name": "Python 3 (ipykernel)",
   "language": "python",
   "name": "python3"
  },
  "language_info": {
   "codemirror_mode": {
    "name": "ipython",
    "version": 3
   },
   "file_extension": ".py",
   "mimetype": "text/x-python",
   "name": "python",
   "nbconvert_exporter": "python",
   "pygments_lexer": "ipython3",
   "version": "3.9.12"
  }
 },
 "nbformat": 4,
 "nbformat_minor": 5
}
